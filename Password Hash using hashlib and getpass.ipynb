{
 "cells": [
  {
   "cell_type": "markdown",
   "id": "77d8608a-27b7-4a28-8966-8dce18d98599",
   "metadata": {},
   "source": [
    "# Password Hash with haslib and getpass"
   ]
  },
  {
   "cell_type": "code",
   "execution_count": 19,
   "id": "129aa03a-5faf-41e0-a100-75923e16536a",
   "metadata": {},
   "outputs": [],
   "source": [
    "# Import the hashlib library to use built-in hash functions like SHA-256\n",
    "\n",
    "import hashlib\n",
    "import getpass # Allows for secure password input (hides typed characters)"
   ]
  },
  {
   "cell_type": "code",
   "execution_count": 20,
   "id": "255d54b2-d3cd-404e-a733-2fbe1ae4c247",
   "metadata": {},
   "outputs": [],
   "source": [
    "# Define a function to hash a given password using SHA-256\n",
    "\n",
    "def hash_password(password):\n",
    "    \"\"\"\n",
    "    Hashes the given password using SHA-256 and returns the hexadecimal digest.\n",
    "    \"\"\"\n",
    "    hashed_password = hashlib.sha256(password.encode()).hexdigest()\n",
    "    return hashed_password"
   ]
  },
  {
   "cell_type": "code",
   "execution_count": 22,
   "id": "78683731-2028-4de2-bd84-a05f523351e9",
   "metadata": {},
   "outputs": [
    {
     "name": "stdin",
     "output_type": "stream",
     "text": [
      "Enter your password:  ········\n"
     ]
    }
   ],
   "source": [
    "# Prompt the user to enter a password without displaying it on the screen\n",
    "password = getpass.getpass(\"Enter your password: \")"
   ]
  },
  {
   "cell_type": "code",
   "execution_count": 23,
   "id": "660f85c3-780a-4421-8ab6-8372b87b25a7",
   "metadata": {},
   "outputs": [],
   "source": [
    "# Hash the entered password\n",
    "hashed_password = hash_password(password)"
   ]
  },
  {
   "cell_type": "code",
   "execution_count": 24,
   "id": "4f56adb9-5e72-41a7-9d7d-761dab0d591b",
   "metadata": {},
   "outputs": [
    {
     "name": "stdout",
     "output_type": "stream",
     "text": [
      "\n",
      "Hashed Password: 7f83b1657ff1fc53b92dc18148a1d65dfc2d4b1fa3d677284addd200126d9069\n"
     ]
    }
   ],
   "source": [
    "# Display the hashed password\n",
    "print(\"\\nHashed Password:\", hashed_password)"
   ]
  }
 ],
 "metadata": {
  "kernelspec": {
   "display_name": "Python 3 (ipykernel)",
   "language": "python",
   "name": "python3"
  },
  "language_info": {
   "codemirror_mode": {
    "name": "ipython",
    "version": 3
   },
   "file_extension": ".py",
   "mimetype": "text/x-python",
   "name": "python",
   "nbconvert_exporter": "python",
   "pygments_lexer": "ipython3",
   "version": "3.9.13"
  }
 },
 "nbformat": 4,
 "nbformat_minor": 5
}
